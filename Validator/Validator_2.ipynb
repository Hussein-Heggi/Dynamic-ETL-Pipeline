{
 "cells": [
  {
   "cell_type": "code",
   "execution_count": 1,
   "metadata": {},
   "outputs": [],
   "source": [
    "import pandas as pd\n",
    "from sklearn.metrics.pairwise import cosine_similarity\n",
    "import numpy as np\n",
    "from scipy.stats import ks_2samp, wasserstein_distance,energy_distance\n",
    "import pickle\n",
    "from scipy.spatial.distance import cdist, pdist"
   ]
  },
  {
   "cell_type": "code",
   "execution_count": 2,
   "metadata": {},
   "outputs": [
    {
     "name": "stdout",
     "output_type": "stream",
     "text": [
      "✅ Data loaded successfully.\n",
      "↪️ Compatibility score: 0.78\n",
      "↪️ Columns in Dataset 1: 9\n",
      "↪️ Columns in Dataset 2: 9\n"
     ]
    }
   ],
   "source": [
    "with open('compatibility_analysis.pkl', 'rb') as f:\n",
    "    saved_data = pickle.load(f)\n",
    "\n",
    "# Unpack\n",
    "embeddings_1 = saved_data['embeddings_1']\n",
    "embeddings_2 = saved_data['embeddings_2']\n",
    "cols1_h = saved_data['cols1_h']\n",
    "cols2_h = saved_data['cols2_h']\n",
    "compatibility_score = saved_data['compatibility_score']\n",
    "\n",
    "print(\"✅ Data loaded successfully.\")\n",
    "print(f\"↪️ Compatibility score: {compatibility_score:.2f}\")\n",
    "print(f\"↪️ Columns in Dataset 1: {len(cols1_h)}\")\n",
    "print(f\"↪️ Columns in Dataset 2: {len(cols2_h)}\")"
   ]
  },
  {
   "cell_type": "code",
   "execution_count": 4,
   "metadata": {},
   "outputs": [
    {
     "name": "stdout",
     "output_type": "stream",
     "text": [
      "\n",
      "Processing File 1\n",
      "Original dtypes:\n",
      "open            float64\n",
      "high            float64\n",
      "low             float64\n",
      "close           float64\n",
      "volume          float64\n",
      "vwap            float64\n",
      "timestamp         int64\n",
      "transactions      int64\n",
      "otc             float64\n",
      "dtype: object\n",
      "\n",
      "No columns were converted.\n",
      "\n",
      "Processing File 2\n",
      "Original dtypes:\n",
      "open            float64\n",
      "high            float64\n",
      "low             float64\n",
      "close           float64\n",
      "volume          float64\n",
      "vwap            float64\n",
      "timestamp         int64\n",
      "transactions      int64\n",
      "otc             float64\n",
      "dtype: object\n",
      "\n",
      "No columns were converted.\n"
     ]
    }
   ],
   "source": [
    "def convert_columns_to_numeric(df, file_label=\"\"):\n",
    "    print(f\"\\nProcessing {file_label}\")\n",
    "    print(\"Original dtypes:\")\n",
    "    print(df.dtypes)\n",
    "\n",
    "    converted_cols = {}\n",
    "    for col in df.columns:\n",
    "        original_dtype = df[col].dtype\n",
    "        if not pd.api.types.is_numeric_dtype(df[col]):\n",
    "            df[col] = pd.to_numeric(df[col], errors='coerce')\n",
    "            new_dtype = df[col].dtype\n",
    "            if new_dtype != original_dtype:\n",
    "                converted_cols[col] = (original_dtype, new_dtype)\n",
    "\n",
    "    if converted_cols:\n",
    "        print(\"\\nColumns converted:\")\n",
    "        for col, (orig, new) in converted_cols.items():\n",
    "            print(f\" - {col}: {orig} -> {new}\")\n",
    "    else:\n",
    "        print(\"\\nNo columns were converted.\")\n",
    "\n",
    "    return df\n",
    "\n",
    "# Replace these with your actual CSV file paths\n",
    "file1_path = '/home/g7/Desktop/Thesis I/Datasets/Ingestor_Datasets/DF_1.csv'\n",
    "file2_path = '/home/g7/Desktop/Thesis I/Datasets/Ingestor_Datasets/DF_2.csv'\n",
    "\n",
    "df1 = pd.read_csv(file1_path)\n",
    "df2 = pd.read_csv(file2_path)\n",
    "\n",
    "df1 = convert_columns_to_numeric(df1, \"File 1\")\n",
    "df2 = convert_columns_to_numeric(df2, \"File 2\")"
   ]
  },
  {
   "cell_type": "code",
   "execution_count": 18,
   "metadata": {},
   "outputs": [],
   "source": [
    "def run_ks_tests(df1, df2):\n",
    "    ks_stat_matrix = pd.DataFrame(index=df1.columns, columns=df2.columns)\n",
    "    p_value_matrix = pd.DataFrame(index=df1.columns, columns=df2.columns)\n",
    "\n",
    "    for col1 in df1.columns:\n",
    "        for col2 in df2.columns:\n",
    "            # Drop missing values\n",
    "            series1 = df1[col1].dropna()\n",
    "            series2 = df2[col2].dropna()\n",
    "\n",
    "            # Check if either series is empty after dropping NaN\n",
    "            if len(series1) == 0 or len(series2) == 0:\n",
    "                ks_stat_matrix.loc[col1, col2] = None\n",
    "                p_value_matrix.loc[col1, col2] = None\n",
    "                continue\n",
    "\n",
    "            # Perform the KS test\n",
    "            stat, p_value = ks_2samp(series1, series2)\n",
    "\n",
    "            # Store the results in the matrices\n",
    "            ks_stat_matrix.loc[col1, col2] = stat\n",
    "            p_value_matrix.loc[col1, col2] = p_value\n",
    "\n",
    "    return ks_stat_matrix, p_value_matrix\n"
   ]
  },
  {
   "cell_type": "code",
   "execution_count": 29,
   "metadata": {},
   "outputs": [],
   "source": [
    "ks_stat_matrix, p_value_matrix = run_ks_tests(df1, df2)"
   ]
  },
  {
   "cell_type": "code",
   "execution_count": 21,
   "metadata": {},
   "outputs": [],
   "source": [
    "def run_wasserstein_test(df1, df2):\n",
    "    wasserstein_matrix = pd.DataFrame(index=df1.columns, columns=df2.columns)\n",
    "\n",
    "    for col1 in df1.columns:\n",
    "        for col2 in df2.columns:\n",
    "            # Check if both columns contain numeric data\n",
    "            if not pd.api.types.is_numeric_dtype(df1[col1]) or not pd.api.types.is_numeric_dtype(df2[col2]):\n",
    "                wasserstein_matrix.loc[col1, col2] = None\n",
    "                continue\n",
    "\n",
    "            # Drop missing values\n",
    "            series1 = df1[col1].dropna()\n",
    "            series2 = df2[col2].dropna()\n",
    "\n",
    "            # Check if either series is empty after dropping NaN\n",
    "            if len(series1) == 0 or len(series2) == 0:\n",
    "                wasserstein_matrix.loc[col1, col2] = None\n",
    "                continue\n",
    "\n",
    "            # Z-score normalization\n",
    "            s1 = (series1 - series1.mean()) / series1.std()\n",
    "            s2 = (series2 - series2.mean()) / series2.std()\n",
    "\n",
    "            # Calculate Wasserstein distance\n",
    "            dist = wasserstein_distance(s1, s2)\n",
    "            wasserstein_matrix.loc[col1, col2] = dist\n",
    "\n",
    "    return wasserstein_matrix\n"
   ]
  },
  {
   "cell_type": "code",
   "execution_count": null,
   "metadata": {},
   "outputs": [],
   "source": [
    "wasserstein_distance_matrix = run_wasserstein_test(df1, df2)"
   ]
  },
  {
   "cell_type": "code",
   "execution_count": 23,
   "metadata": {},
   "outputs": [],
   "source": [
    "def calculate_psi(expected, actual, bins=2):\n",
    "    expected = expected.dropna()\n",
    "    actual = actual.dropna()\n",
    "\n",
    "    if isinstance(bins, int):\n",
    "        bin_edges = np.percentile(expected, np.linspace(0, 100, bins + 1))\n",
    "        bin_edges = np.unique(bin_edges)  # Remove duplicates\n",
    "        if len(bin_edges) < 2:\n",
    "            return np.nan  # Cannot bin a constant column\n",
    "    else:\n",
    "        bin_edges = bins\n",
    "\n",
    "    expected_bins = np.histogram(expected, bins=bin_edges)[0]\n",
    "    actual_bins = np.histogram(actual, bins=bin_edges)[0]\n",
    "\n",
    "    if expected_bins.sum() == 0 or actual_bins.sum() == 0:\n",
    "        return np.nan  # Avoid divide by zero\n",
    "\n",
    "    expected_dist = expected_bins / expected_bins.sum()\n",
    "    actual_dist = actual_bins / actual_bins.sum()\n",
    "\n",
    "    # Add small value to avoid log(0) or divide-by-zero\n",
    "    epsilon = 1e-6\n",
    "    psi = np.sum((expected_dist - actual_dist) * np.log((expected_dist + epsilon) / (actual_dist + epsilon)))\n",
    "\n",
    "    return psi\n",
    "\n",
    "def run_psi_tests(df1, df2, bins=4, epsilon=1e-4):\n",
    "    psi_matrix = pd.DataFrame(index=df1.columns, columns=df2.columns)\n",
    "\n",
    "    for col1 in df1.columns:\n",
    "        for col2 in df2.columns:\n",
    "            # Check if both columns contain numeric data\n",
    "            if not pd.api.types.is_numeric_dtype(df1[col1]) or not pd.api.types.is_numeric_dtype(df2[col2]):\n",
    "                psi_matrix.loc[col1, col2] = None\n",
    "                continue\n",
    "\n",
    "            # Drop missing values\n",
    "            series1 = df1[col1].dropna()\n",
    "            series2 = df2[col2].dropna()\n",
    "\n",
    "            # Check if either series is empty after dropping NaN\n",
    "            if len(series1) == 0 or len(series2) == 0:\n",
    "                psi_matrix.loc[col1, col2] = None\n",
    "                continue\n",
    "\n",
    "            # Calculate PSI\n",
    "            psi = calculate_psi(series1, series2, bins=bins)\n",
    "            psi_matrix.loc[col1, col2] = psi if not np.isnan(psi) else epsilon\n",
    "\n",
    "    return psi_matrix\n",
    "\n"
   ]
  },
  {
   "cell_type": "code",
   "execution_count": 31,
   "metadata": {},
   "outputs": [],
   "source": [
    "psi_matrix = run_psi_tests(df1, df2, bins=4)"
   ]
  },
  {
   "cell_type": "code",
   "execution_count": 25,
   "metadata": {},
   "outputs": [],
   "source": [
    "def run_energy_distance(df1, df2):\n",
    "    energy_matrix = pd.DataFrame(index=df1.columns, columns=df2.columns)\n",
    "\n",
    "    for col1 in df1.columns:\n",
    "        for col2 in df2.columns:\n",
    "            # Check if both columns contain numeric data\n",
    "            if not pd.api.types.is_numeric_dtype(df1[col1]) or not pd.api.types.is_numeric_dtype(df2[col2]):\n",
    "                energy_matrix.loc[col1, col2] = None\n",
    "                continue\n",
    "\n",
    "            # Drop missing values\n",
    "            s1 = df1[col1].dropna()\n",
    "            s2 = df2[col2].dropna()\n",
    "\n",
    "            # Check if either series is empty after dropping NaN\n",
    "            min_len = min(len(s1), len(s2))\n",
    "            if min_len == 0:\n",
    "                energy_matrix.loc[col1, col2] = None\n",
    "                continue\n",
    "\n",
    "            # Z-score normalization\n",
    "            s1 = (s1 - s1.mean()) / s1.std()\n",
    "            s2 = (s2 - s2.mean()) / s2.std()\n",
    "\n",
    "            # Compute energy distance\n",
    "            d_xy = cdist(s1.values.reshape(-1, 1), s2.values.reshape(-1, 1)).mean()\n",
    "            d_xx = pdist(s1.values.reshape(-1, 1)).mean() if len(s1) > 1 else 0\n",
    "            d_yy = pdist(s2.values.reshape(-1, 1)).mean() if len(s2) > 1 else 0\n",
    "\n",
    "            energy_dist = 2 * d_xy - d_xx - d_yy\n",
    "            energy_matrix.loc[col1, col2] = energy_dist\n",
    "\n",
    "    return energy_matrix\n"
   ]
  },
  {
   "cell_type": "code",
   "execution_count": 32,
   "metadata": {},
   "outputs": [],
   "source": [
    "energy_dist_matrix = run_energy_distance(df1, df2)"
   ]
  },
  {
   "cell_type": "code",
   "execution_count": 33,
   "metadata": {},
   "outputs": [],
   "source": [
    "def normalize_matrix(matrix, higher_is_better=True, epsilon=1e-6):\n",
    "    normalized_matrix = matrix.copy()\n",
    "\n",
    "    if higher_is_better:\n",
    "        # Normalize by dividing by the maximum value to scale between 0 and 1\n",
    "        max_val = normalized_matrix.max().max()\n",
    "        if max_val > 0:\n",
    "            normalized_matrix = normalized_matrix / max_val\n",
    "    else:\n",
    "        # Invert the matrix to make smaller values larger\n",
    "        normalized_matrix = 1 / (normalized_matrix + epsilon)\n",
    "\n",
    "    return normalized_matrix"
   ]
  },
  {
   "cell_type": "code",
   "execution_count": 34,
   "metadata": {},
   "outputs": [],
   "source": [
    "normalized_ks_stat_matrix = normalize_matrix(ks_stat_matrix, higher_is_better=False)\n",
    "normalized_p_value_matrix = normalize_matrix(p_value_matrix, higher_is_better=True)\n",
    "normalized_wasserstein_matrix = normalize_matrix(wasserstein_distance_matrix, higher_is_better=False)\n",
    "normalized_psi_matrix = normalize_matrix(psi_matrix, higher_is_better=True)\n",
    "normalized_energy_matrix = normalize_matrix(energy_dist_matrix, higher_is_better=False)"
   ]
  },
  {
   "cell_type": "code",
   "execution_count": null,
   "metadata": {},
   "outputs": [],
   "source": []
  }
 ],
 "metadata": {
  "kernelspec": {
   "display_name": ".venv",
   "language": "python",
   "name": "python3"
  },
  "language_info": {
   "codemirror_mode": {
    "name": "ipython",
    "version": 3
   },
   "file_extension": ".py",
   "mimetype": "text/x-python",
   "name": "python",
   "nbconvert_exporter": "python",
   "pygments_lexer": "ipython3",
   "version": "3.12.9"
  }
 },
 "nbformat": 4,
 "nbformat_minor": 2
}
