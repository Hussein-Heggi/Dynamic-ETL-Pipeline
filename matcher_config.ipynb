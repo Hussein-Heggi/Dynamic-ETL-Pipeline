{
 "cells": [
  {
   "cell_type": "code",
   "execution_count": 1,
   "metadata": {},
   "outputs": [],
   "source": [
    "# matcher_config.py\n",
    "\n",
    "api_feature_map = {\n",
    "    \"polygon\": {\n",
    "        \"features\": [\n",
    "            \"get_aggs\",\n",
    "            \"get_grouped_daily_aggs\",\n",
    "            \"get_daily_open_close_agg\",\n",
    "            \"volume\",\n",
    "            \"vwap\",\n",
    "            \"open_price\",\n",
    "            \"close_price\",\n",
    "            \"high_price\",\n",
    "            \"low_price\"\n",
    "        ],\n",
    "        \"feature_descriptions\": {\n",
    "            \"get_aggs\": \"Get aggregate bars for a stock over a given date range\",\n",
    "            \"get_grouped_daily_aggs\": \"Get grouped daily bars for all stocks on a specific date\",\n",
    "            \"get_daily_open_close_agg\": \"Get open and close prices for a specific date\",\n",
    "            \"volume\": \"Trading volume for the period\",\n",
    "            \"vwap\": \"Volume Weighted Average Price\",\n",
    "            \"open_price\": \"Opening price\",\n",
    "            \"close_price\": \"Closing price\",\n",
    "            \"high_price\": \"Highest price\",\n",
    "            \"low_price\": \"Lowest price\"\n",
    "        }\n",
    "    },\n",
    "    \"alpha_vantage\": {\n",
    "        \"features\": [\n",
    "            \"TIME_SERIES_DAILY\",\n",
    "            \"open\",\n",
    "            \"high\",\n",
    "            \"low\",\n",
    "            \"close\",\n",
    "            \"volume\"\n",
    "        ],\n",
    "        \"feature_descriptions\": {\n",
    "            \"TIME_SERIES_DAILY\": \"Daily time series data\",\n",
    "            \"open\": \"Opening price\",\n",
    "            \"high\": \"High price\",\n",
    "            \"low\": \"Low price\",\n",
    "            \"close\": \"Closing price\",\n",
    "            \"volume\": \"Volume traded\"\n",
    "        }\n",
    "    }\n",
    "}\n"
   ]
  }
 ],
 "metadata": {
  "kernelspec": {
   "display_name": ".venv",
   "language": "python",
   "name": "python3"
  },
  "language_info": {
   "codemirror_mode": {
    "name": "ipython",
    "version": 3
   },
   "file_extension": ".py",
   "mimetype": "text/x-python",
   "name": "python",
   "nbconvert_exporter": "python",
   "pygments_lexer": "ipython3",
   "version": "3.12.9"
  }
 },
 "nbformat": 4,
 "nbformat_minor": 2
}
