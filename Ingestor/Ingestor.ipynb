{
 "cells": [
  {
   "cell_type": "code",
   "execution_count": 6,
   "metadata": {},
   "outputs": [
    {
     "name": "stdout",
     "output_type": "stream",
     "text": [
      "Exported CSV for polygon\n"
     ]
    }
   ],
   "source": [
    "import pandas as pd\n",
    "from typing import Dict, Any, List, Union\n",
    "from Polygon_Client import PolygonClient\n",
    "from alpha_vantage_client import AlphaVantageClient\n",
    "\n",
    "class Ingestor:\n",
    "    def __init__(self, config: Dict[str, Any]):\n",
    "        \"\"\"\n",
    "        Initializes the Ingestor with a registry of API clients.\n",
    "        \"\"\"\n",
    "        self.clients = {\n",
    "            'polygon': PolygonClient(api_key=config.get('polygon_api_key')),\n",
    "            'alpha_vantage': AlphaVantageClient(api_key=config.get('alpha_vantage_api_key')),\n",
    "        }\n",
    "\n",
    "    def process_features(\n",
    "        self,\n",
    "        features: Union[Dict[str, Any], List[Dict[str, Any]]]\n",
    "    ) -> List[Dict[str, Any]]:\n",
    "        \"\"\"\n",
    "        Process requests and always export the resulting DataFrame to CSV.\n",
    "        \"\"\"\n",
    "        requests = features if isinstance(features, list) else [features]\n",
    "        outputs: List[Dict[str, Any]] = []\n",
    "\n",
    "        for feat in requests:\n",
    "            feat_copy = feat.copy()\n",
    "            api_choice = feat_copy.pop('api', 'polygon')\n",
    "            client = self.clients.get(api_choice)\n",
    "            if not client:\n",
    "                raise ValueError(f\"No client found for API: {api_choice}\")\n",
    "\n",
    "            raw_pkg = client.fetch_data(feat_copy)\n",
    "            df = client.parse_response(raw_pkg)\n",
    "            # stats = client.compute_statistics(df)\n",
    "\n",
    "            # Export DataFrame to CSV file\n",
    "           # identifier = gathered.get('company_identifier', api_choice)\n",
    "            #start = gathered.get('start', '')\n",
    "           # end = gathered.get('end', '')\n",
    "            filename = f\"{api_choice}_df1.csv\"\n",
    "            df.to_csv(filename, index=False)\n",
    "\n",
    "            outputs.append({\n",
    "                'client': api_choice,\n",
    "                'df': df\n",
    "            })\n",
    "\n",
    "        return outputs\n",
    "\n",
    "if __name__ == \"__main__\":\n",
    "    config = {\n",
    "        'polygon_api_key': 'amT2HDpKSqyIvpdbz5DY9qLwWwPDpaB0',\n",
    "        'alpha_vantage_api_key': 'WXOG38FYIAUD05SZ'\n",
    "    }\n",
    "    ingestor = Ingestor(config)\n",
    "    # Example usage\n",
    "    feature_requests = [\n",
    "        {\n",
    "            'api': 'polygon',\n",
    "            'ticker': 'NVDA',\n",
    "            'multiplier': 1,\n",
    "            'timespan': 'day',\n",
    "            'from': '2025-01-03',\n",
    "            'to': '2025-02-25',\n",
    "            'endpoint_type': 0\n",
    "        }\n",
    "    ]\n",
    "    results = ingestor.process_features(feature_requests)\n",
    "    for res in results:\n",
    "        print(f\"Exported CSV for {res['client']}\")\n"
   ]
  }
 ],
 "metadata": {
  "kernelspec": {
   "display_name": ".venv",
   "language": "python",
   "name": "python3"
  },
  "language_info": {
   "codemirror_mode": {
    "name": "ipython",
    "version": 3
   },
   "file_extension": ".py",
   "mimetype": "text/x-python",
   "name": "python",
   "nbconvert_exporter": "python",
   "pygments_lexer": "ipython3",
   "version": "3.12.9"
  }
 },
 "nbformat": 4,
 "nbformat_minor": 2
}
